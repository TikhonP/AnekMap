{
 "cells": [
  {
   "cell_type": "markdown",
   "metadata": {},
   "source": [
    "# Загрузка препроцесса"
   ]
  },
  {
   "cell_type": "code",
   "execution_count": 2,
   "metadata": {},
   "outputs": [],
   "source": [
    "from ufal.udpipe import Model, Pipeline\n",
    "import preproc\n",
    "\n",
    "# udpipe_model_url = 'https://rusvectores.org/static/models/udpipe_syntagrus.model'\n",
    "# udpipe_filename = udpipe_model_url.split('/')[-1]\n",
    "\n",
    "model = Model.load('udpipe_syntagrus.model')\n",
    "process_pipeline = Pipeline(model, 'tokenize', Pipeline.DEFAULT, Pipeline.DEFAULT, 'conllu')\n",
    "\n",
    "def proctext(text):\n",
    "    return preproc.process(process_pipeline, text)"
   ]
  },
  {
   "cell_type": "markdown",
   "metadata": {},
   "source": [
    "Чекни препроцесс"
   ]
  },
  {
   "cell_type": "code",
   "execution_count": 3,
   "metadata": {},
   "outputs": [
    {
     "data": {
      "text/plain": [
       "['привет_NOUN',\n",
       " 'как_SCONJ',\n",
       " 'дело_NOUN',\n",
       " 'красивый_ADJ',\n",
       " 'вай_VERB',\n",
       " 'какой_DET',\n",
       " 'арбуз_NOUN']"
      ]
     },
     "execution_count": 3,
     "metadata": {},
     "output_type": "execute_result"
    }
   ],
   "source": [
    "proctext('ПРИВЕТ, как дела красивая??? вай какой арбуз!')"
   ]
  },
  {
   "cell_type": "markdown",
   "metadata": {},
   "source": [
    "# Загрузка модели vord2vec"
   ]
  },
  {
   "cell_type": "code",
   "execution_count": 5,
   "metadata": {},
   "outputs": [],
   "source": [
    "import zipfile\n",
    "from gensim import models\n",
    "\n",
    "model_file = '182.zip'\n",
    "\n",
    "with zipfile.ZipFile(model_file, 'r') as archive:\n",
    "    stream = archive.open('model.bin')\n",
    "    model = models.KeyedVectors.load_word2vec_format(stream, binary=True)"
   ]
  },
  {
   "cell_type": "markdown",
   "metadata": {},
   "source": [
    "### vord2doc"
   ]
  },
  {
   "cell_type": "code",
   "execution_count": 9,
   "metadata": {},
   "outputs": [],
   "source": [
    "from gensim import corpora\n",
    "from gensim.utils import simple_preprocess\n",
    "from gensim import models\n",
    "import numpy as np\n",
    "import scipy.spatial.distance as ds\n",
    "\n",
    "def count2doc(doc, model):\n",
    "    documents = [\" \".join(doc)]\n",
    "    mydict = corpora.Dictionary([simple_preprocess(line) for line in documents])\n",
    "    corpus = [mydict.doc2bow(simple_preprocess(line)) for line in documents]\n",
    "   \n",
    "    tfidf = models.TfidfModel(corpus, smartirs='ntc')\n",
    "    \n",
    "    tfidf_dict = {}\n",
    "    \n",
    "    for doc in tfidf[corpus]:\n",
    "        for id, freq in doc:\n",
    "            w = mydict[id].split(sep='_')\n",
    "            try:\n",
    "                ww = w[0] + '_' + w[1].upper()\n",
    "            except IndexError:\n",
    "                pass\n",
    "                continue\n",
    "            tfidf_dict[ww]=freq\n",
    "            \n",
    "        \n",
    "    w2v_dict = {}\n",
    "\n",
    "        \n",
    "    for word in tfidf_dict:\n",
    "        try:\n",
    "            vec = model[word]\n",
    "        except KeyError:\n",
    "            pass\n",
    "            continue \n",
    "        newvec = vec*tfidf_dict[word]\n",
    "        w2v_dict[word] = newvec\n",
    "    \n",
    "    w2v_list = np.zeros(300,)\n",
    "    \n",
    "    for word in w2v_dict:\n",
    "        w2v_list = w2v_list + w2v_dict[word]\n",
    "        \n",
    "    \n",
    "    return w2v_list\n",
    "\n",
    "\n",
    "def cosndist(vec1, vec2):\n",
    "    return ds.cosine(vec1, vec2)"
   ]
  },
  {
   "cell_type": "code",
   "execution_count": 10,
   "metadata": {},
   "outputs": [],
   "source": [
    "data = \"\"\"Разговаривают два солдата: - Знаешь чем наш \"прапор\" от свиньи отличаеться? Вдруг откуда не возмись появляеться \"прапор\" и говорит: - Ну и чем же? Солдат: - Ничем, товарищ прапорщик! Прапор: - То-то же!\"\"\""
   ]
  },
  {
   "cell_type": "code",
   "execution_count": 11,
   "metadata": {},
   "outputs": [
    {
     "data": {
      "text/plain": [
       "array([0., 0., 0., 0., 0., 0., 0., 0., 0., 0., 0., 0., 0., 0., 0., 0., 0.,\n",
       "       0., 0., 0., 0., 0., 0., 0., 0., 0., 0., 0., 0., 0., 0., 0., 0., 0.,\n",
       "       0., 0., 0., 0., 0., 0., 0., 0., 0., 0., 0., 0., 0., 0., 0., 0., 0.,\n",
       "       0., 0., 0., 0., 0., 0., 0., 0., 0., 0., 0., 0., 0., 0., 0., 0., 0.,\n",
       "       0., 0., 0., 0., 0., 0., 0., 0., 0., 0., 0., 0., 0., 0., 0., 0., 0.,\n",
       "       0., 0., 0., 0., 0., 0., 0., 0., 0., 0., 0., 0., 0., 0., 0., 0., 0.,\n",
       "       0., 0., 0., 0., 0., 0., 0., 0., 0., 0., 0., 0., 0., 0., 0., 0., 0.,\n",
       "       0., 0., 0., 0., 0., 0., 0., 0., 0., 0., 0., 0., 0., 0., 0., 0., 0.,\n",
       "       0., 0., 0., 0., 0., 0., 0., 0., 0., 0., 0., 0., 0., 0., 0., 0., 0.,\n",
       "       0., 0., 0., 0., 0., 0., 0., 0., 0., 0., 0., 0., 0., 0., 0., 0., 0.,\n",
       "       0., 0., 0., 0., 0., 0., 0., 0., 0., 0., 0., 0., 0., 0., 0., 0., 0.,\n",
       "       0., 0., 0., 0., 0., 0., 0., 0., 0., 0., 0., 0., 0., 0., 0., 0., 0.,\n",
       "       0., 0., 0., 0., 0., 0., 0., 0., 0., 0., 0., 0., 0., 0., 0., 0., 0.,\n",
       "       0., 0., 0., 0., 0., 0., 0., 0., 0., 0., 0., 0., 0., 0., 0., 0., 0.,\n",
       "       0., 0., 0., 0., 0., 0., 0., 0., 0., 0., 0., 0., 0., 0., 0., 0., 0.,\n",
       "       0., 0., 0., 0., 0., 0., 0., 0., 0., 0., 0., 0., 0., 0., 0., 0., 0.,\n",
       "       0., 0., 0., 0., 0., 0., 0., 0., 0., 0., 0., 0., 0., 0., 0., 0., 0.,\n",
       "       0., 0., 0., 0., 0., 0., 0., 0., 0., 0., 0.])"
      ]
     },
     "execution_count": 11,
     "metadata": {},
     "output_type": "execute_result"
    }
   ],
   "source": [
    "count2doc(data, model)"
   ]
  },
  {
   "cell_type": "code",
   "execution_count": null,
   "metadata": {},
   "outputs": [],
   "source": []
  }
 ],
 "metadata": {
  "kernelspec": {
   "display_name": "Python 3",
   "language": "python",
   "name": "python3"
  },
  "language_info": {
   "codemirror_mode": {
    "name": "ipython",
    "version": 3
   },
   "file_extension": ".py",
   "mimetype": "text/x-python",
   "name": "python",
   "nbconvert_exporter": "python",
   "pygments_lexer": "ipython3",
   "version": "3.7.4"
  }
 },
 "nbformat": 4,
 "nbformat_minor": 4
}
